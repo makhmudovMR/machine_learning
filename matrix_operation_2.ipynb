{
 "cells": [
  {
   "cell_type": "markdown",
   "metadata": {},
   "source": [
    "# Matrix operation 2"
   ]
  },
  {
   "cell_type": "code",
   "execution_count": 18,
   "metadata": {
    "collapsed": true
   },
   "outputs": [],
   "source": [
    "import numpy as np"
   ]
  },
  {
   "cell_type": "code",
   "execution_count": 19,
   "metadata": {
    "collapsed": true
   },
   "outputs": [],
   "source": [
    "'''Матрица входных значений'''\n",
    "I = np.array([\n",
    "    [0.9,], #входные данные узла 1\n",
    "    [0.1], #входные данные узла 2\n",
    "    [0.8], #входные данные узла 3\n",
    "])"
   ]
  },
  {
   "cell_type": "code",
   "execution_count": 20,
   "metadata": {
    "collapsed": true
   },
   "outputs": [],
   "source": [
    "'''Матрица весовых коофицентов между входным слоем и скрытым'''\n",
    "W_input_hight = np.array([\n",
    "    [0.9, 0.3, 0.4],\n",
    "    [0.2, 0.8, 0.2],\n",
    "    [0.1, 0.5, 0.6],\n",
    "])"
   ]
  },
  {
   "cell_type": "code",
   "execution_count": 21,
   "metadata": {
    "collapsed": true
   },
   "outputs": [],
   "source": [
    "'''Матрица весовых коофицентов между скрытым и выходным слоем'''\n",
    "W_hight_output = np.array([\n",
    "    [0.3, 0.7, 0.5],\n",
    "    [0.6, 0.5, 0.2],\n",
    "    [0.8, 0.1, 0.9],\n",
    "])"
   ]
  },
  {
   "cell_type": "markdown",
   "metadata": {},
   "source": [
    "<hr>"
   ]
  },
  {
   "cell_type": "code",
   "execution_count": 22,
   "metadata": {
    "collapsed": true
   },
   "outputs": [],
   "source": [
    "X_hight = np.dot(W_input_hight, I)"
   ]
  },
  {
   "cell_type": "code",
   "execution_count": 23,
   "metadata": {},
   "outputs": [
    {
     "name": "stdout",
     "output_type": "stream",
     "text": [
      "[[ 1.16]\n",
      " [ 0.42]\n",
      " [ 0.62]]\n"
     ]
    }
   ],
   "source": [
    "print(X_hight)"
   ]
  },
  {
   "cell_type": "markdown",
   "metadata": {},
   "source": [
    "<hr>"
   ]
  },
  {
   "cell_type": "code",
   "execution_count": 24,
   "metadata": {
    "collapsed": true
   },
   "outputs": [],
   "source": [
    "X_hight = W_input_hight.dot(I)"
   ]
  },
  {
   "cell_type": "code",
   "execution_count": 25,
   "metadata": {},
   "outputs": [
    {
     "name": "stdout",
     "output_type": "stream",
     "text": [
      "[[ 1.16]\n",
      " [ 0.42]\n",
      " [ 0.62]]\n"
     ]
    }
   ],
   "source": [
    "print(X_hight)"
   ]
  },
  {
   "cell_type": "markdown",
   "metadata": {},
   "source": [
    "<hr>"
   ]
  },
  {
   "cell_type": "markdown",
   "metadata": {
    "collapsed": true
   },
   "source": [
    "Применияем функцию сигмоиды к X_hight, формула сигмоды (формула сглаживания):$$y = \\frac{1}{1+e^{-x}}$$"
   ]
  },
  {
   "cell_type": "code",
   "execution_count": 29,
   "metadata": {},
   "outputs": [],
   "source": [
    "e = 2.7\n",
    "X = []\n",
    "for x in X_hight:\n",
    "    X.append(1/(1+e**-x))\n",
    "X_hight = X"
   ]
  },
  {
   "cell_type": "code",
   "execution_count": 30,
   "metadata": {},
   "outputs": [
    {
     "name": "stdout",
     "output_type": "stream",
     "text": [
      "[array([ 0.75990743]), array([ 0.60280484]), array([ 0.64926639])]\n"
     ]
    }
   ],
   "source": [
    "print(X_hight)"
   ]
  },
  {
   "cell_type": "code",
   "execution_count": 31,
   "metadata": {},
   "outputs": [
    {
     "name": "stdout",
     "output_type": "stream",
     "text": [
      "[array([ 0.75990743]), array([ 0.60280484]), array([ 0.64926639])]\n"
     ]
    }
   ],
   "source": [
    "print(X)"
   ]
  },
  {
   "cell_type": "code",
   "execution_count": null,
   "metadata": {
    "collapsed": true
   },
   "outputs": [],
   "source": []
  }
 ],
 "metadata": {
  "kernelspec": {
   "display_name": "Python 3",
   "language": "python",
   "name": "python3"
  },
  "language_info": {
   "codemirror_mode": {
    "name": "ipython",
    "version": 3
   },
   "file_extension": ".py",
   "mimetype": "text/x-python",
   "name": "python",
   "nbconvert_exporter": "python",
   "pygments_lexer": "ipython3",
   "version": "3.6.3"
  }
 },
 "nbformat": 4,
 "nbformat_minor": 2
}
