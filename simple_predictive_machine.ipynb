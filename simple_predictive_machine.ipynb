{
 "cells": [
  {
   "cell_type": "markdown",
   "metadata": {},
   "source": [
    "#### makhmudov"
   ]
  },
  {
   "cell_type": "markdown",
   "metadata": {},
   "source": [
    "# simple predictive machine"
   ]
  },
  {
   "cell_type": "markdown",
   "metadata": {},
   "source": [
    "<img src=https://neuralnet.info/wp-content/uploads/2017/08/cyonn-1-predicting_machine_4.png>"
   ]
  },
  {
   "cell_type": "markdown",
   "metadata": {},
   "source": [
    "$$мили=километры*C$$\n",
    "<hr>"
   ]
  },
  {
   "cell_type": "markdown",
   "metadata": {},
   "source": [
    "<center>Тренировачные данные</center>\n",
    "<table>\n",
    "    <tr>\n",
    "        <th>\n",
    "            Номер замера\n",
    "        </th>\n",
    "        <th>\n",
    "            Километры\n",
    "        </th>\n",
    "        <th>\n",
    "            Мили\n",
    "        </th>\n",
    "    </tr>\n",
    "    <tr>\n",
    "        <td>\n",
    "            1\n",
    "        </td>\n",
    "        <td>\n",
    "            0\n",
    "        </td>\n",
    "        <td>\n",
    "            0\n",
    "        </td>\n",
    "    </tr>\n",
    "    <tr>\n",
    "        <td>\n",
    "            2\n",
    "        </td>\n",
    "        <td>\n",
    "            100\n",
    "        </td>\n",
    "        <td>\n",
    "            62.137\n",
    "        </td>\n",
    "    </tr>\n",
    "</table>"
   ]
  },
  {
   "cell_type": "markdown",
   "metadata": {},
   "source": [
    "И как же узнать значение $C$? А давайте просто придумаем случайное число и скажем, что ему-то и равна наша константа. Пусть $C=0.5$. Что же произойдет?"
   ]
  },
  {
   "cell_type": "markdown",
   "metadata": {},
   "source": [
    "<img src=https://neuralnet.info/wp-content/uploads/2017/08/cyonn-1-predicting_machine_5.png>"
   ]
  },
  {
   "cell_type": "code",
   "execution_count": 8,
   "metadata": {},
   "outputs": [
    {
     "name": "stdout",
     "output_type": "stream",
     "text": [
      "50.0\n"
     ]
    }
   ],
   "source": [
    "correct_mile = 62.137\n",
    "kilometer = 100\n",
    "c = 0.5\n",
    "mile = kilometer * c\n",
    "print(mile)"
   ]
  },
  {
   "cell_type": "markdown",
   "metadata": {},
   "source": [
    "$погрешность$ = $правильное  значение$ — $полученный$ ответ=62.137—50=12.137"
   ]
  },
  {
   "cell_type": "code",
   "execution_count": 9,
   "metadata": {},
   "outputs": [
    {
     "name": "stdout",
     "output_type": "stream",
     "text": [
      "12.137\n"
     ]
    }
   ],
   "source": [
    "error = correct_mile - mile\n",
    "print(error)"
   ]
  },
  {
   "cell_type": "markdown",
   "metadata": {},
   "source": [
    "<img src=https://neuralnet.info/wp-content/uploads/2017/08/cyonn-1-predicting_machine_6.png>"
   ]
  },
  {
   "cell_type": "markdown",
   "metadata": {},
   "source": [
    "большая погрешность => пересмотрим константу $C$<br>\n",
    "присвоем константе $C$ значение $0.6$<br>\n",
    "$C = 0.6$"
   ]
  },
  {
   "cell_type": "code",
   "execution_count": 11,
   "metadata": {},
   "outputs": [
    {
     "name": "stdout",
     "output_type": "stream",
     "text": [
      "60.0\n",
      "\n",
      "Пограшеность:2.1370000000000005\n"
     ]
    }
   ],
   "source": [
    "c=0.6\n",
    "mile = kilometer * c\n",
    "print(mile)\n",
    "print()\n",
    "error = correct_mile - mile\n",
    "print(\"Пограшеность:\" + str(error))"
   ]
  },
  {
   "cell_type": "markdown",
   "metadata": {},
   "source": [
    "<img src=https://neuralnet.info/wp-content/uploads/2017/08/cyonn-1-predicting_machine_7.png>"
   ]
  },
  {
   "cell_type": "markdown",
   "metadata": {},
   "source": [
    "Продвинемся дальше: $C=0.7$"
   ]
  },
  {
   "cell_type": "code",
   "execution_count": 15,
   "metadata": {},
   "outputs": [
    {
     "name": "stdout",
     "output_type": "stream",
     "text": [
      "70.0\n",
      "\n",
      "Пограшеность:-7.8629999999999995\n",
      "Погрешность отрицательная\n"
     ]
    }
   ],
   "source": [
    "c = 0.7\n",
    "mile = kilometer * c\n",
    "print(mile)\n",
    "print()\n",
    "error = correct_mile - mile\n",
    "print(\"Пограшеность:\" + str(error))\n",
    "print(\"Погрешность отрицательная\")"
   ]
  },
  {
   "cell_type": "markdown",
   "metadata": {},
   "source": [
    "<img src=https://neuralnet.info/wp-content/uploads/2017/08/cyonn-1-predicting_machine_8.png>"
   ]
  },
  {
   "cell_type": "markdown",
   "metadata": {},
   "source": [
    "Снизим константу $C$ до 0.61<br>\n",
    "$C=0.61$"
   ]
  },
  {
   "cell_type": "code",
   "execution_count": 16,
   "metadata": {},
   "outputs": [
    {
     "name": "stdout",
     "output_type": "stream",
     "text": [
      "61.0\n",
      "\n",
      "Погрешноть: 1.1370000000000005\n"
     ]
    }
   ],
   "source": [
    "c = 0.61\n",
    "mile = kilometer * c\n",
    "print(mile)\n",
    "print()\n",
    "error = correct_mile - mile\n",
    "print(\"Погрешноть: \" + str(error))"
   ]
  },
  {
   "cell_type": "markdown",
   "metadata": {},
   "source": [
    "Из этой ситуации с превышением правильного ответа надо вынести важный урок. По мере приближения к правильному ответу параметры машины стоит менять все слабее и слабее. Это поможет избежать неприятных ситуаций, которые приводят к превышению правильного ответа.\n",
    "\n",
    "Величина нашей корректировки $C$ зависит от погрешности. Чем больше наша погрешность, тем более сильно мы меняем значение $C$. Но когда погрешность становиться маленькой, необходимо менять $C$ по чуть-чуть."
   ]
  },
  {
   "cell_type": "code",
   "execution_count": null,
   "metadata": {
    "collapsed": true
   },
   "outputs": [],
   "source": []
  }
 ],
 "metadata": {
  "kernelspec": {
   "display_name": "Python 3",
   "language": "python",
   "name": "python3"
  },
  "language_info": {
   "codemirror_mode": {
    "name": "ipython",
    "version": 3
   },
   "file_extension": ".py",
   "mimetype": "text/x-python",
   "name": "python",
   "nbconvert_exporter": "python",
   "pygments_lexer": "ipython3",
   "version": "3.6.3"
  }
 },
 "nbformat": 4,
 "nbformat_minor": 2
}
