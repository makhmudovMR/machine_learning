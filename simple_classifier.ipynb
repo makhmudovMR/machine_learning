{
 "cells": [
  {
   "cell_type": "markdown",
   "metadata": {},
   "source": [
    "#### makhmudov"
   ]
  },
  {
   "cell_type": "markdown",
   "metadata": {},
   "source": [
    "# Simple Classifier"
   ]
  },
  {
   "cell_type": "markdown",
   "metadata": {},
   "source": [
    "<center>Тренировачый данные</center>\n",
    "<table>\n",
    "    <tr>\n",
    "        <th>Пример</th>\n",
    "        <th>Длина</th>\n",
    "        <th>Ширина</th>\n",
    "        <th>Тип насикомого</th>\n",
    "    </tr>\n",
    "    <tr>\n",
    "        <td>1</td>\n",
    "        <td>3.0</td>\n",
    "        <td>1.0</td>\n",
    "        <td>Божья коровка</td>\n",
    "    </tr>\n",
    "    <tr>\n",
    "        <td>2</td>\n",
    "        <td>1.0</td>\n",
    "        <td>3.0</td>\n",
    "        <td>Гусеница</td>\n",
    "    </tr>\n",
    "</table>"
   ]
  },
  {
   "cell_type": "code",
   "execution_count": 33,
   "metadata": {
    "collapsed": true
   },
   "outputs": [],
   "source": [
    "bugs = {\n",
    "        \"caterpillar\" : {\"length\" : 3.0, \"width\": 1.0},\n",
    "        \"ladybug\" : {\"length\" : 1.0, \"width\" : 3.0}\n",
    "    }"
   ]
  },
  {
   "cell_type": "markdown",
   "metadata": {
    "collapsed": true
   },
   "source": [
    "$$ y = Ax$$"
   ]
  },
  {
   "cell_type": "markdown",
   "metadata": {},
   "source": [
    "Для начала пусть $A=0.25$"
   ]
  },
  {
   "cell_type": "code",
   "execution_count": 34,
   "metadata": {},
   "outputs": [
    {
     "name": "stdout",
     "output_type": "stream",
     "text": [
      "[0.0, 0.25, 0.5, 0.75, 1.0]\n"
     ]
    }
   ],
   "source": [
    "A = 0.25\n",
    "y = [(lambda x: A*x)(x) for x in range(5)]\n",
    "print(y)"
   ]
  },
  {
   "cell_type": "raw",
   "metadata": {},
   "source": [
    "Суть в том что нам нужно указать разделитель между Гусенцами и Божьеми Коровками"
   ]
  },
  {
   "cell_type": "code",
   "execution_count": 35,
   "metadata": {},
   "outputs": [
    {
     "name": "stdout",
     "output_type": "stream",
     "text": [
      "0.25\n"
     ]
    }
   ],
   "source": [
    "error = bugs[\"ladybug\"][\"length\"] - l[3] #1.0 - 0.75 = 0.25 (расхождение)\n",
    "print(error)"
   ]
  },
  {
   "cell_type": "markdown",
   "metadata": {},
   "source": [
    "Прежде чем приступать к подбору $A$ важно прояснить один момент. Какое именно значение $y$ (то есть длины жука) мы хотим получить? Если, мы хотим, чтобы $y=1$, то наша прямая будет проходить прямо через точку с размерами божьей коровки $(3,1)$. Может показаться, что именно это нам и надо, но это не так. Нам нужно, чтобы прямая проходила выше этой точки. Почему? Потому что мы хотим, чтобы все размеры божьих коровок находились под прямой, а не на ее пути. Ведь нам нужна прямая, разделяющая гусениц и божьих коровок, а не предсказательная машина, которая выдает нам длину жука, основываясь на его ширине."
   ]
  },
  {
   "cell_type": "markdown",
   "metadata": {},
   "source": [
    "Установим за желаемый результат $y=1.1$ при $x=3$\n"
   ]
  },
  {
   "cell_type": "markdown",
   "metadata": {},
   "source": [
    " <i>погрешность = желаемый результат — полученный результат</i>"
   ]
  },
  {
   "cell_type": "markdown",
   "metadata": {},
   "source": [
    "$E$ = $1.1$ — $0.75$ = $0.35$"
   ]
  },
  {
   "cell_type": "code",
   "execution_count": 36,
   "metadata": {},
   "outputs": [
    {
     "name": "stdout",
     "output_type": "stream",
     "text": [
      "0.3500000000000001\n"
     ]
    }
   ],
   "source": [
    "t = 1.1\n",
    "error = t - y[3]\n",
    "print(error)"
   ]
  },
  {
   "cell_type": "markdown",
   "metadata": {},
   "source": [
    "<b>Но как использовать погрешность ​E​ для получения более точного значения ​A​? Это важный вопрос.</b>"
   ]
  },
  {
   "cell_type": "markdown",
   "metadata": {},
   "source": [
    "<div style=\"width:300px; border:2px solid #000; margin:0 auto; padding:10px;\">\n",
    "    <b><i>Суть этого этапа в подборе оптимального значения для $A$</i></b>\n",
    "</div>"
   ]
  },
  {
   "cell_type": "markdown",
   "metadata": {},
   "source": [
    "Давайте рассуждать. Мы хотим использовать погрешность $E$ для подбора значения постоянного коэффициента $E$. Тогда нам нужно знать связь между $E$ и $A$. Если бы мы отыскали эту связь, то смогли бы понять, как изменение одного влияет на другое."
   ]
  },
  {
   "cell_type": "markdown",
   "metadata": {},
   "source": [
    "Обозначим желаемый результат за $t$\n"
   ]
  },
  {
   "cell_type": "markdown",
   "metadata": {},
   "source": [
    "Для получения этого значения $t$ нам надо как-то несильно изменить постоянный коэффициент $A$. Математики используют символ $Δ$ (дельта) для обозначения небольшого изменения. Итак:"
   ]
  },
  {
   "cell_type": "markdown",
   "metadata": {},
   "source": [
    "$$t=(A+ΔA)x$$"
   ]
  },
  {
   "cell_type": "markdown",
   "metadata": {},
   "source": [
    "$t=1.1$ при $x=3$"
   ]
  },
  {
   "cell_type": "code",
   "execution_count": 37,
   "metadata": {},
   "outputs": [
    {
     "name": "stdout",
     "output_type": "stream",
     "text": [
      "0.3500000000000001\n"
     ]
    }
   ],
   "source": [
    "error = t-y[3]\n",
    "print(error)"
   ]
  },
  {
   "cell_type": "markdown",
   "metadata": {},
   "source": [
    "погрешность делим на тот $x$ от которого мы искали эту погрешность тобишь $x=3$"
   ]
  },
  {
   "cell_type": "code",
   "execution_count": 38,
   "metadata": {},
   "outputs": [
    {
     "name": "stdout",
     "output_type": "stream",
     "text": [
      "0.1166666666666667\n"
     ]
    }
   ],
   "source": [
    "delta_A = error / 3\n",
    "print(delta_A)"
   ]
  },
  {
   "cell_type": "code",
   "execution_count": 39,
   "metadata": {},
   "outputs": [
    {
     "name": "stdout",
     "output_type": "stream",
     "text": [
      "1.1\n"
     ]
    }
   ],
   "source": [
    "y = (A+delta_A)*3\n",
    "print(y)"
   ]
  },
  {
   "cell_type": "code",
   "execution_count": 40,
   "metadata": {},
   "outputs": [
    {
     "name": "stdout",
     "output_type": "stream",
     "text": [
      "0.25\n"
     ]
    }
   ],
   "source": [
    "print(A)"
   ]
  },
  {
   "cell_type": "code",
   "execution_count": 41,
   "metadata": {},
   "outputs": [
    {
     "name": "stdout",
     "output_type": "stream",
     "text": [
      "[0.0, 0.3666666666666667, 0.7333333333333334, 1.1, 1.4666666666666668]\n"
     ]
    }
   ],
   "source": [
    "t = [(lambda x: (A+delta_A)*x)(x_in) for x_in in range(5)]\n",
    "print(t)"
   ]
  },
  {
   "cell_type": "markdown",
   "metadata": {},
   "source": [
    "<hr>"
   ]
  },
  {
   "cell_type": "code",
   "execution_count": 42,
   "metadata": {},
   "outputs": [
    {
     "name": "stdout",
     "output_type": "stream",
     "text": [
      "0.3666666666666667\n"
     ]
    }
   ],
   "source": [
    "A+=delta_A\n",
    "print(A)"
   ]
  },
  {
   "cell_type": "markdown",
   "metadata": {},
   "source": [
    "<div style=\"border:1px solid #000\"></div>"
   ]
  },
  {
   "cell_type": "markdown",
   "metadata": {},
   "source": [
    "оптимальный коофицент $A = 0.3667$ от тренировки одного типа жука(Божья Коровка) "
   ]
  },
  {
   "cell_type": "markdown",
   "metadata": {},
   "source": [
    "У нас в обучающей выборке есть еще один пример — гусеница с шириной ($x=1$) и длиной ($y=3$). Давайте посмотрим, что мы получим при подстановке $x=1$ в нашу линейную функцию с постоянным коэффициентом $A=0.3667$:\n",
    "\n",
    "$$y = 0.3667 * 1 = 0.3667$$\n",
    "\n",
    "Даже не близко к $y=3$.\n",
    "\n",
    "Исходя из того, что разделяющая прямая должна не пересекать данные нашей обучающей выборки, а проходить над/под ними, примем желаемый результат за 2.9. В таком случае размеры гусеницы из обучающей выборки будут как раз немного выше разделяющей прямой.\n",
    "\n",
    "Желаемый результат $t$ для гусеницы $2.9$<br>\n",
    "$t=2.9$\n",
    "\n",
    "Посчитаем текущую погрешность:\n",
    "$$E = t - y$$\n",
    "где $y$ текущий результат тобишь: $y=Ax$\n"
   ]
  },
  {
   "cell_type": "code",
   "execution_count": 48,
   "metadata": {},
   "outputs": [
    {
     "name": "stdout",
     "output_type": "stream",
     "text": [
      "2.533333333333333\n",
      "2.533333333333333\n",
      "2.9\n"
     ]
    }
   ],
   "source": [
    "t = 2.9\n",
    "#y = 0.3667*1\n",
    "y = A*1\n",
    "E = t - y\n",
    "error = E\n",
    "print(E)\n",
    "delta_A = E/1\n",
    "print(delta_A)\n",
    "A = A + delta_A\n",
    "print(A)"
   ]
  },
  {
   "cell_type": "code",
   "execution_count": null,
   "metadata": {
    "collapsed": true
   },
   "outputs": [],
   "source": []
  }
 ],
 "metadata": {
  "kernelspec": {
   "display_name": "Python 3",
   "language": "python",
   "name": "python3"
  },
  "language_info": {
   "codemirror_mode": {
    "name": "ipython",
    "version": 3
   },
   "file_extension": ".py",
   "mimetype": "text/x-python",
   "name": "python",
   "nbconvert_exporter": "python",
   "pygments_lexer": "ipython3",
   "version": "3.6.3"
  }
 },
 "nbformat": 4,
 "nbformat_minor": 2
}
